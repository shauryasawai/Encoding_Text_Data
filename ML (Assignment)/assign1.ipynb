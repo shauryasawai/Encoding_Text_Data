{
 "cells": [
  {
   "cell_type": "code",
   "execution_count": 1,
   "id": "d07aa6d7-5b6f-4e14-8f12-06f888df980a",
   "metadata": {},
   "outputs": [
    {
     "name": "stdout",
     "output_type": "stream",
     "text": [
      "Requirement already satisfied: transformers in c:\\users\\shauryaman\\anaconda3\\lib\\site-packages (4.31.0)\n",
      "Requirement already satisfied: pandas in c:\\users\\shauryaman\\anaconda3\\lib\\site-packages (1.5.3)\n",
      "Requirement already satisfied: filelock in c:\\users\\shauryaman\\anaconda3\\lib\\site-packages (from transformers) (3.13.1)\n",
      "Requirement already satisfied: huggingface-hub<1.0,>=0.14.1 in c:\\users\\shauryaman\\anaconda3\\lib\\site-packages (from transformers) (0.22.0)\n",
      "Requirement already satisfied: numpy>=1.17 in c:\\users\\shauryaman\\anaconda3\\lib\\site-packages (from transformers) (1.24.3)\n",
      "Requirement already satisfied: packaging>=20.0 in c:\\users\\shauryaman\\appdata\\roaming\\python\\python311\\site-packages (from transformers) (24.0)\n",
      "Requirement already satisfied: pyyaml>=5.1 in c:\\users\\shauryaman\\anaconda3\\lib\\site-packages (from transformers) (6.0)\n",
      "Requirement already satisfied: regex!=2019.12.17 in c:\\users\\shauryaman\\anaconda3\\lib\\site-packages (from transformers) (2022.7.9)\n",
      "Requirement already satisfied: requests in c:\\users\\shauryaman\\anaconda3\\lib\\site-packages (from transformers) (2.26.0)\n",
      "Requirement already satisfied: tokenizers!=0.11.3,<0.14,>=0.11.1 in c:\\users\\shauryaman\\anaconda3\\lib\\site-packages (from transformers) (0.13.3)\n",
      "Requirement already satisfied: safetensors>=0.3.1 in c:\\users\\shauryaman\\anaconda3\\lib\\site-packages (from transformers) (0.4.2)\n",
      "Requirement already satisfied: tqdm>=4.27 in c:\\users\\shauryaman\\anaconda3\\lib\\site-packages (from transformers) (4.65.0)\n",
      "Requirement already satisfied: python-dateutil>=2.8.1 in c:\\users\\shauryaman\\anaconda3\\lib\\site-packages (from pandas) (2.8.2)\n",
      "Requirement already satisfied: pytz>=2020.1 in c:\\users\\shauryaman\\anaconda3\\lib\\site-packages (from pandas) (2022.7)\n",
      "Requirement already satisfied: fsspec>=2023.5.0 in c:\\users\\shauryaman\\anaconda3\\lib\\site-packages (from huggingface-hub<1.0,>=0.14.1->transformers) (2024.2.0)\n",
      "Requirement already satisfied: typing-extensions>=3.7.4.3 in c:\\users\\shauryaman\\anaconda3\\lib\\site-packages (from huggingface-hub<1.0,>=0.14.1->transformers) (4.10.0)\n",
      "Requirement already satisfied: six>=1.5 in c:\\users\\shauryaman\\anaconda3\\lib\\site-packages (from python-dateutil>=2.8.1->pandas) (1.16.0)\n",
      "Requirement already satisfied: colorama in c:\\users\\shauryaman\\appdata\\roaming\\python\\python311\\site-packages (from tqdm>=4.27->transformers) (0.4.6)\n",
      "Requirement already satisfied: urllib3<1.27,>=1.21.1 in c:\\users\\shauryaman\\anaconda3\\lib\\site-packages (from requests->transformers) (1.26.16)\n",
      "Requirement already satisfied: certifi>=2017.4.17 in c:\\users\\shauryaman\\anaconda3\\lib\\site-packages (from requests->transformers) (2024.2.2)\n",
      "Requirement already satisfied: charset-normalizer~=2.0.0 in c:\\users\\shauryaman\\anaconda3\\lib\\site-packages (from requests->transformers) (2.0.4)\n",
      "Requirement already satisfied: idna<4,>=2.5 in c:\\users\\shauryaman\\anaconda3\\lib\\site-packages (from requests->transformers) (3.4)\n",
      "Note: you may need to restart the kernel to use updated packages.\n"
     ]
    }
   ],
   "source": [
    "pip install transformers pandas"
   ]
  },
  {
   "cell_type": "code",
   "execution_count": 2,
   "id": "4b0e193c-7291-4db1-a000-35a748f22a27",
   "metadata": {},
   "outputs": [
    {
     "name": "stderr",
     "output_type": "stream",
     "text": [
      "C:\\Users\\Shauryaman\\anaconda3\\Lib\\site-packages\\bitsandbytes\\cextension.py:34: UserWarning: The installed version of bitsandbytes was compiled without GPU support. 8-bit optimizers, 8-bit multiplication, and GPU quantization are unavailable.\n",
      "  warn(\"The installed version of bitsandbytes was compiled without GPU support. \"\n"
     ]
    },
    {
     "name": "stdout",
     "output_type": "stream",
     "text": [
      "'NoneType' object has no attribute 'cadam32bit_grad_fp32'\n"
     ]
    }
   ],
   "source": [
    "import pandas as pd\n",
    "from transformers import BertTokenizer, BertModel\n",
    "import torch"
   ]
  },
  {
   "cell_type": "code",
   "execution_count": 3,
   "id": "6f865f9d-627a-42b8-a89d-30f66a1f1804",
   "metadata": {},
   "outputs": [
    {
     "name": "stdout",
     "output_type": "stream",
     "text": [
      "   ProductID                                        ProductName ProductBrand  \\\n",
      "0   10017413  DKNY Unisex Black & Grey Printed Medium Trolle...         DKNY   \n",
      "1   10016283  EthnoVogue Women Beige & Grey Made to Measure ...   EthnoVogue   \n",
      "2   10009781  SPYKAR Women Pink Alexa Super Skinny Fit High-...       SPYKAR   \n",
      "3   10015921  Raymond Men Blue Self-Design Single-Breasted B...      Raymond   \n",
      "4   10017833  Parx Men Brown & Off-White Slim Fit Printed Ca...         Parx   \n",
      "\n",
      "   Gender  Price (INR)  NumImages  \\\n",
      "0  Unisex        11745          7   \n",
      "1   Women         5810          7   \n",
      "2   Women          899          7   \n",
      "3     Men         5599          5   \n",
      "4     Men          759          5   \n",
      "\n",
      "                                         Description PrimaryColor  \n",
      "0  Black and grey printed medium trolley bag, sec...        Black  \n",
      "1  Beige & Grey made to measure kurta with churid...        Beige  \n",
      "2  Pink coloured wash 5-pocket high-rise cropped ...         Pink  \n",
      "3  Blue self-design bandhgala suitBlue self-desig...         Blue  \n",
      "4  Brown and off-white printed casual shirt, has ...        White  \n"
     ]
    }
   ],
   "source": [
    "csv_file_path = 'myntra_products_catalog.csv'\n",
    "df = pd.read_csv(csv_file_path)\n",
    "print(df.head())"
   ]
  },
  {
   "cell_type": "code",
   "execution_count": 4,
   "id": "51329c24-a6a5-454b-9511-9b800efe79d6",
   "metadata": {},
   "outputs": [
    {
     "name": "stdout",
     "output_type": "stream",
     "text": [
      "Columns in the CSV file: Index(['ProductID', 'ProductName', 'ProductBrand', 'Gender', 'Price (INR)',\n",
      "       'NumImages', 'Description', 'PrimaryColor'],\n",
      "      dtype='object')\n"
     ]
    }
   ],
   "source": [
    "print(\"Columns in the CSV file:\", df.columns)"
   ]
  },
  {
   "cell_type": "code",
   "execution_count": 5,
   "id": "e212e181-2ca0-464a-9ed7-eddade5becbc",
   "metadata": {},
   "outputs": [],
   "source": [
    "text_column = ('ProductName')\n",
    "if text_column not in df.columns:\n",
    "    raise ValueError(f\"The specified column '{text_column}' is not present in the CSV file.\")"
   ]
  },
  {
   "cell_type": "code",
   "execution_count": 6,
   "id": "1e9461d1-dafa-49fa-b571-95ddf4e34104",
   "metadata": {},
   "outputs": [],
   "source": [
    "missing_values_count = df[text_column].isnull().sum()\n",
    "if missing_values_count > 0:\n",
    "    print(f\"Warning: There are {missing_values_count} missing values in the '{text_column}' column. Handling missing values by filling with an empty string.\")\n",
    "    df[text_column].fillna('', inplace=True)"
   ]
  },
  {
   "cell_type": "code",
   "execution_count": 7,
   "id": "acefc629-8b2c-4a6d-beef-eda2fb37315e",
   "metadata": {},
   "outputs": [
    {
     "name": "stdout",
     "output_type": "stream",
     "text": [
      "0    DKNY Unisex Black & Grey Printed Medium Trolle...\n",
      "1    EthnoVogue Women Beige & Grey Made to Measure ...\n",
      "2    SPYKAR Women Pink Alexa Super Skinny Fit High-...\n",
      "3    Raymond Men Blue Self-Design Single-Breasted B...\n",
      "4    Parx Men Brown & Off-White Slim Fit Printed Ca...\n",
      "Name: ProductName, dtype: object\n"
     ]
    }
   ],
   "source": [
    "print(df[text_column].head())"
   ]
  },
  {
   "cell_type": "code",
   "execution_count": 8,
   "id": "f1c0ebee-e03b-451e-9b8a-daa26b1b44b2",
   "metadata": {},
   "outputs": [],
   "source": [
    "# Cleaning the Text Data\n",
    "import pandas as pd\n",
    "import re\n",
    "import nltk\n",
    "from nltk.corpus import stopwords\n",
    "from nltk.stem import WordNetLemmatizer"
   ]
  },
  {
   "cell_type": "code",
   "execution_count": 9,
   "id": "c82f51c5-8d57-4ac4-bcc0-1e09ce3497a4",
   "metadata": {},
   "outputs": [
    {
     "name": "stderr",
     "output_type": "stream",
     "text": [
      "[nltk_data] Downloading package stopwords to\n",
      "[nltk_data]     C:\\Users\\Shauryaman\\AppData\\Roaming\\nltk_data...\n",
      "[nltk_data]   Package stopwords is already up-to-date!\n",
      "[nltk_data] Downloading package wordnet to\n",
      "[nltk_data]     C:\\Users\\Shauryaman\\AppData\\Roaming\\nltk_data...\n",
      "[nltk_data]   Package wordnet is already up-to-date!\n"
     ]
    },
    {
     "data": {
      "text/plain": [
       "True"
      ]
     },
     "execution_count": 9,
     "metadata": {},
     "output_type": "execute_result"
    }
   ],
   "source": [
    "nltk.download('stopwords')\n",
    "nltk.download('wordnet')"
   ]
  },
  {
   "cell_type": "code",
   "execution_count": 10,
   "id": "7cad0137-93b0-4b56-a9cf-9fd0bb2a267c",
   "metadata": {},
   "outputs": [],
   "source": [
    "csv_file_path = 'myntra_products_catalog.csv'\n",
    "df = pd.read_csv(csv_file_path)\n",
    "text_column = 'ProductName' # Cleaning Product name Coloumn\n",
    "text_column1 = 'Description' # Cleaning the Description Coloumn"
   ]
  },
  {
   "cell_type": "code",
   "execution_count": 11,
   "id": "2c846724-208c-48e8-95c5-b5877bc38d07",
   "metadata": {},
   "outputs": [],
   "source": [
    "stop_words = set(stopwords.words('english'))\n",
    "lemmatizer = WordNetLemmatizer()"
   ]
  },
  {
   "cell_type": "code",
   "execution_count": 12,
   "id": "05cd92b5-259f-4df2-9867-7e0a8bb1754a",
   "metadata": {},
   "outputs": [],
   "source": [
    "# Function to clean text data (Reffered From Chat gpt)\n",
    "def preprocess_text(text):\n",
    "    # Convert text to lowercase\n",
    "    text = text.lower()\n",
    "    # Remove special characters and numbers\n",
    "    text = re.sub(r'[^a-zA-Z\\s]', '', text)\n",
    "    # Remove extra whitespace\n",
    "    text = ' '.join(text.split())\n",
    "    # Remove stop words\n",
    "    words = text.split()\n",
    "    words = [word for word in words if word not in stop_words]\n",
    "    # Lemmatize words\n",
    "    words = [lemmatizer.lemmatize(word) for word in words]\n",
    "    # Reconstruct the text\n",
    "    text = ' '.join(words)\n",
    "    return text"
   ]
  },
  {
   "cell_type": "code",
   "execution_count": 13,
   "id": "a27e9e52-e810-4dfa-9edc-5a1ce6cd2338",
   "metadata": {},
   "outputs": [
    {
     "name": "stdout",
     "output_type": "stream",
     "text": [
      "       ProductID                                        ProductName  \\\n",
      "0       10017413  dkny unisex black grey printed medium trolley bag   \n",
      "1       10016283  ethnovogue woman beige grey made measure custo...   \n",
      "2       10009781  spykar woman pink alexa super skinny fit highr...   \n",
      "3       10015921  raymond men blue selfdesign singlebreasted ban...   \n",
      "4       10017833  parx men brown offwhite slim fit printed casua...   \n",
      "...          ...                                                ...   \n",
      "12486   10262843  pepe jean men black hammock slim fit lowrise c...   \n",
      "12487   10261721                   mochi woman goldtoned solid heel   \n",
      "12488   10261607  league girl navy blue white printed regular fi...   \n",
      "12489   10266621  bvlgari men aqva pour homme marine eau de toil...   \n",
      "12490   10265199  pepe jean men black grey striped polo collar t...   \n",
      "\n",
      "      ProductBrand  Gender  Price (INR)  NumImages  \\\n",
      "0             DKNY  Unisex        11745          7   \n",
      "1       EthnoVogue   Women         5810          7   \n",
      "2           SPYKAR   Women          899          7   \n",
      "3          Raymond     Men         5599          5   \n",
      "4             Parx     Men          759          5   \n",
      "...            ...     ...          ...        ...   \n",
      "12486   Pepe Jeans     Men         1299          7   \n",
      "12487        Mochi   Women         1990          5   \n",
      "12488   612 league   Girls          602          4   \n",
      "12489      Bvlgari     Men         8950          2   \n",
      "12490   Pepe Jeans     Men          799          5   \n",
      "\n",
      "                                             Description PrimaryColor  \n",
      "0      black grey printed medium trolley bag secured ...        Black  \n",
      "1      beige grey made measure kurta churidar dupatta...        Beige  \n",
      "2      pink coloured wash pocket highrise cropped jea...         Pink  \n",
      "3      blue selfdesign bandhgala suitblue selfdesign ...         Blue  \n",
      "4      brown offwhite printed casual shirt spread col...        White  \n",
      "...                                                  ...          ...  \n",
      "12486  black dark wash pocket lowrise jean clean look...        Black  \n",
      "12487  pair goldtoned open toe heel regular styling o...         Gold  \n",
      "12488  navy blue white printed midrise denim short po...         Blue  \n",
      "12489  bvlgari men aqva pour homme marine eau de toil...          NaN  \n",
      "12490  black grey striped tshirt polo collar short sl...        Black  \n",
      "\n",
      "[12491 rows x 8 columns]\n"
     ]
    }
   ],
   "source": [
    "df[text_column] = df[text_column].apply(preprocess_text)\n",
    "df[text_column1] = df[text_column1].apply(preprocess_text)\n",
    "print(df)"
   ]
  },
  {
   "cell_type": "code",
   "execution_count": 14,
   "id": "8be95077-d848-42e2-b917-d1d333445e62",
   "metadata": {},
   "outputs": [],
   "source": [
    "df\n",
    "text_column = 'ProductName'"
   ]
  },
  {
   "cell_type": "code",
   "execution_count": 15,
   "id": "90727180-c52f-46b8-8812-fdfe3e7e8d5a",
   "metadata": {},
   "outputs": [],
   "source": [
    "tokenizer = BertTokenizer.from_pretrained('bert-base-uncased')"
   ]
  },
  {
   "cell_type": "code",
   "execution_count": 16,
   "id": "a0383edf-65ad-415f-ac92-0caaac91831b",
   "metadata": {},
   "outputs": [],
   "source": [
    "def encode_texts(texts, tokenizer, max_length=512):\n",
    "    # Tokenize and encode texts\n",
    "    encoded_dict = tokenizer.batch_encode_plus(\n",
    "        texts,\n",
    "        add_special_tokens=True,  # Add [CLS] and [SEP]\n",
    "        max_length=max_length,  # Pad or truncate to max_length\n",
    "        padding='max_length',  # Pad to max_length\n",
    "        truncation=True,  # Truncate to max_length\n",
    "        return_attention_mask=True,  # Return attention masks\n",
    "        return_tensors='pt',  # Return PyTorch tensors\n",
    "    )\n",
    "    return encoded_dict"
   ]
  },
  {
   "cell_type": "code",
   "execution_count": 17,
   "id": "893b3be5-3862-466b-a781-917d07615d43",
   "metadata": {},
   "outputs": [
    {
     "name": "stdout",
     "output_type": "stream",
     "text": [
      "Input IDs shape: torch.Size([12491, 512])\n",
      "Attention Masks shape: torch.Size([12491, 512])\n"
     ]
    }
   ],
   "source": [
    "texts = df[text_column].tolist()\n",
    "encoded_dict = encode_texts(texts, tokenizer)\n",
    "input_ids = encoded_dict['input_ids']\n",
    "attention_masks = encoded_dict['attention_mask']\n",
    "print(\"Input IDs shape:\", input_ids.shape)\n",
    "print(\"Attention Masks shape:\", attention_masks.shape)"
   ]
  },
  {
   "cell_type": "code",
   "execution_count": 18,
   "id": "fe3bb568-1332-4a51-ae43-36e7b30e2d06",
   "metadata": {},
   "outputs": [],
   "source": [
    "df\n",
    "tokenizer = BertTokenizer.from_pretrained('bert-base-uncased')"
   ]
  },
  {
   "cell_type": "code",
   "execution_count": 19,
   "id": "5383cd8b-116e-4706-a4e4-77f2826f6a1b",
   "metadata": {},
   "outputs": [],
   "source": [
    "def encode_text(text):\n",
    "    # Tokenize input text\n",
    "    tokens = tokenizer.encode(text, add_special_tokens=True)\n",
    "    # Convert tokens to tensor\n",
    "    tokens_tensor = torch.tensor(tokens)\n",
    "    # Reshape tensor for compatibility with BERT model\n",
    "    tokens_tensor = tokens_tensor.unsqueeze(0)\n",
    "    return tokens_tensor"
   ]
  },
  {
   "cell_type": "code",
   "execution_count": 20,
   "id": "46e212cb-d4d0-40cf-b3c5-3577bde1b15a",
   "metadata": {},
   "outputs": [],
   "source": [
    "encoded_texts = []\n",
    "for text in df['ProductName']:\n",
    "    encoded_text = encode_text(text)\n",
    "    encoded_texts.append(encoded_text)"
   ]
  },
  {
   "cell_type": "code",
   "execution_count": 21,
   "id": "30318fcc-03db-4da1-ac58-934567992b64",
   "metadata": {},
   "outputs": [],
   "source": [
    "encoded_texts_tensor = torch.cat(encoded_texts, dim=1)"
   ]
  },
  {
   "cell_type": "code",
   "execution_count": 22,
   "id": "d2776cae-858c-4d1f-93ad-aca1596a7909",
   "metadata": {},
   "outputs": [],
   "source": [
    "model = BertModel.from_pretrained('bert-base-uncased')"
   ]
  },
  {
   "cell_type": "code",
   "execution_count": 28,
   "id": "276eee0b-9d5f-4efa-b6a4-3601ccbaa51c",
   "metadata": {},
   "outputs": [],
   "source": [
    "torch.save(model, 'encoded_data.csv')"
   ]
  },
  {
   "cell_type": "code",
   "execution_count": null,
   "id": "eb60524a-19bf-40d4-90a0-1ee1e6938f90",
   "metadata": {},
   "outputs": [],
   "source": []
  }
 ],
 "metadata": {
  "kernelspec": {
   "display_name": "Python 3 (ipykernel)",
   "language": "python",
   "name": "python3"
  },
  "language_info": {
   "codemirror_mode": {
    "name": "ipython",
    "version": 3
   },
   "file_extension": ".py",
   "mimetype": "text/x-python",
   "name": "python",
   "nbconvert_exporter": "python",
   "pygments_lexer": "ipython3",
   "version": "3.11.4"
  }
 },
 "nbformat": 4,
 "nbformat_minor": 5
}
